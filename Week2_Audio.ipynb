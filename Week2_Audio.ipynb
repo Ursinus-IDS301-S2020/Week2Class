{
 "cells": [
  {
   "cell_type": "markdown",
   "metadata": {},
   "source": [
    "## Setting up the environment"
   ]
  },
  {
   "cell_type": "code",
   "execution_count": null,
   "metadata": {},
   "outputs": [],
   "source": [
    "import numpy as np # This is the main numerical library we will use\n",
    "import matplotlib.pyplot as plt # This is the main plotting library we will use\n",
    "import scipy.io.wavfile as wavfile # We will use this library to load in audio\n",
    "import IPython.display as ipd # This is a library that allows us to play audio samples in Jupyter"
   ]
  },
  {
   "cell_type": "markdown",
   "metadata": {},
   "source": [
    "## Basic Arithmetic / Variable Naming"
   ]
  },
  {
   "cell_type": "code",
   "execution_count": null,
   "metadata": {},
   "outputs": [],
   "source": [
    "# Go through +, *, /, **, %\n",
    "1+1"
   ]
  },
  {
   "cell_type": "code",
   "execution_count": null,
   "metadata": {},
   "outputs": [],
   "source": [
    "9*8"
   ]
  },
  {
   "cell_type": "code",
   "execution_count": null,
   "metadata": {},
   "outputs": [],
   "source": [
    "10/4"
   ]
  },
  {
   "cell_type": "code",
   "execution_count": null,
   "metadata": {},
   "outputs": [],
   "source": [
    "2**2 + 2"
   ]
  },
  {
   "cell_type": "code",
   "execution_count": null,
   "metadata": {},
   "outputs": [],
   "source": [
    "20 % 6  # Remainder"
   ]
  },
  {
   "cell_type": "code",
   "execution_count": null,
   "metadata": {},
   "outputs": [],
   "source": [
    "a = 5 # This sets the variable a to be 5\n",
    "b = 2"
   ]
  },
  {
   "cell_type": "code",
   "execution_count": null,
   "metadata": {},
   "outputs": [],
   "source": [
    "b**2"
   ]
  },
  {
   "cell_type": "code",
   "execution_count": null,
   "metadata": {},
   "outputs": [],
   "source": [
    "a = a + 1  #  This is weird syntax, but it means set a to be the previous value of a plus 1"
   ]
  },
  {
   "cell_type": "code",
   "execution_count": null,
   "metadata": {
    "scrolled": true
   },
   "outputs": [],
   "source": [
    "a**a"
   ]
  },
  {
   "cell_type": "code",
   "execution_count": null,
   "metadata": {},
   "outputs": [],
   "source": [
    "matt = 0"
   ]
  },
  {
   "cell_type": "code",
   "execution_count": null,
   "metadata": {},
   "outputs": [],
   "source": [
    "1 / matt"
   ]
  },
  {
   "cell_type": "code",
   "execution_count": null,
   "metadata": {},
   "outputs": [],
   "source": [
    "1matt = 0  # Cannot start a variable name with a number"
   ]
  },
  {
   "cell_type": "code",
   "execution_count": null,
   "metadata": {},
   "outputs": [],
   "source": [
    "christralie = 30"
   ]
  },
  {
   "cell_type": "code",
   "execution_count": null,
   "metadata": {},
   "outputs": [],
   "source": [
    "print(ChrisTralie)  # Case sensitive!!"
   ]
  },
  {
   "cell_type": "markdown",
   "metadata": {},
   "source": [
    "## Numpy Arrays / Plotting"
   ]
  },
  {
   "cell_type": "code",
   "execution_count": null,
   "metadata": {},
   "outputs": [],
   "source": [
    "x = [1, 9, -10, 2]"
   ]
  },
  {
   "cell_type": "code",
   "execution_count": null,
   "metadata": {},
   "outputs": [],
   "source": [
    "x[4]"
   ]
  },
  {
   "cell_type": "code",
   "execution_count": null,
   "metadata": {},
   "outputs": [],
   "source": [
    "x[0]  # Lists are zero-indexed"
   ]
  },
  {
   "cell_type": "code",
   "execution_count": null,
   "metadata": {},
   "outputs": [],
   "source": [
    "x[2]"
   ]
  },
  {
   "cell_type": "code",
   "execution_count": null,
   "metadata": {},
   "outputs": [],
   "source": [
    "x[-1]"
   ]
  },
  {
   "cell_type": "code",
   "execution_count": null,
   "metadata": {},
   "outputs": [],
   "source": [
    "x[-2]"
   ]
  },
  {
   "cell_type": "code",
   "execution_count": null,
   "metadata": {},
   "outputs": [],
   "source": [
    "x = [i**2 for i in range(1000)]"
   ]
  },
  {
   "cell_type": "code",
   "execution_count": null,
   "metadata": {},
   "outputs": [],
   "source": [
    "x[-1]"
   ]
  },
  {
   "cell_type": "code",
   "execution_count": null,
   "metadata": {},
   "outputs": [],
   "source": [
    "len(x) # This gets the length of the list"
   ]
  },
  {
   "cell_type": "code",
   "execution_count": null,
   "metadata": {},
   "outputs": [],
   "source": [
    "# Slicing\n",
    "mylist = [12, 9, -2, 8, 17, 13, 24]\n",
    "firstfour = mylist[0:4]\n",
    "print(firstfour)"
   ]
  },
  {
   "cell_type": "code",
   "execution_count": null,
   "metadata": {},
   "outputs": [],
   "source": [
    "print(mylist[2:5])"
   ]
  },
  {
   "cell_type": "code",
   "execution_count": null,
   "metadata": {},
   "outputs": [],
   "source": [
    "print(mylist[0:5:2])"
   ]
  },
  {
   "cell_type": "code",
   "execution_count": null,
   "metadata": {},
   "outputs": [],
   "source": [
    "mylist[0:5:2] = 0 # This is a limitation of lists"
   ]
  },
  {
   "cell_type": "code",
   "execution_count": null,
   "metadata": {},
   "outputs": [],
   "source": [
    "mylist[0:5:2] = [0, 0, 0]\n",
    "print(mylist)"
   ]
  },
  {
   "cell_type": "code",
   "execution_count": null,
   "metadata": {},
   "outputs": [],
   "source": [
    "mylist[0] = 64\n",
    "print(mylist)"
   ]
  },
  {
   "cell_type": "code",
   "execution_count": null,
   "metadata": {},
   "outputs": [],
   "source": [
    "list1 = [0, 1, 2, 3, 4, 5, 6, 7]\n",
    "list2 = [2, 4, 6, 8, 10, 12, 14, 16]\n",
    "list1[0:7:2] = list2[1:8:2]\n",
    "print(list1)\n",
    "print(list1[0:7:2])"
   ]
  },
  {
   "cell_type": "code",
   "execution_count": null,
   "metadata": {},
   "outputs": [],
   "source": [
    "# We can leave out the last element\n",
    "print(list1[0: :3]) # Take every third element starting at element 0"
   ]
  },
  {
   "cell_type": "code",
   "execution_count": null,
   "metadata": {},
   "outputs": [],
   "source": [
    "print(list1[2: : ]) # Take every element from 2 to the end"
   ]
  },
  {
   "cell_type": "code",
   "execution_count": null,
   "metadata": {},
   "outputs": [],
   "source": [
    "print(list1[::-1])"
   ]
  },
  {
   "cell_type": "code",
   "execution_count": null,
   "metadata": {},
   "outputs": [],
   "source": [
    "x = [1, 2, 3, 4, 5]\n",
    "print(x[5::])\n",
    "y = [3, 8, 9]\n",
    "x[5::] = y\n",
    "print(x)"
   ]
  },
  {
   "cell_type": "code",
   "execution_count": null,
   "metadata": {},
   "outputs": [],
   "source": [
    "# The + by default with lists puts one list at the end of the other\n",
    "a = [1, 2, 3]\n",
    "b = [2, 3, 4]\n",
    "print(a + b)"
   ]
  },
  {
   "cell_type": "code",
   "execution_count": null,
   "metadata": {},
   "outputs": [],
   "source": [
    "# arange, zeros, ones, plot/stem"
   ]
  },
  {
   "cell_type": "code",
   "execution_count": null,
   "metadata": {},
   "outputs": [],
   "source": [
    "np.arange?"
   ]
  },
  {
   "cell_type": "code",
   "execution_count": null,
   "metadata": {},
   "outputs": [],
   "source": [
    "x = np.arange(10) + 1  # Element-wise add\n",
    "# This is *much* faster than adding to individual elements\n",
    "#x[0] = x[0] + 1\n",
    "#x[1] = x[1] + 1\n",
    "print(x)"
   ]
  },
  {
   "cell_type": "code",
   "execution_count": null,
   "metadata": {},
   "outputs": [],
   "source": [
    "x = x*x # Element-wise multiplication\n",
    "print(x)"
   ]
  },
  {
   "cell_type": "code",
   "execution_count": null,
   "metadata": {},
   "outputs": [],
   "source": [
    "x = x + x\n",
    "print(x)"
   ]
  },
  {
   "cell_type": "code",
   "execution_count": 62,
   "metadata": {},
   "outputs": [
    {
     "data": {
      "text/plain": [
       "[<matplotlib.lines.Line2D at 0x7f2d5d336890>]"
      ]
     },
     "execution_count": 62,
     "metadata": {},
     "output_type": "execute_result"
    },
    {
     "data": {
      "image/png": "[encoded data removed]",
      "text/plain": [
       "<Figure size 432x288 with 1 Axes>"
      ]
     },
     "metadata": {
      "needs_background": "light"
     },
     "output_type": "display_data"
    }
   ],
   "source": [
    "plt.plot(x)"
   ]
  },
  {
   "cell_type": "code",
   "execution_count": 63,
   "metadata": {},
   "outputs": [
    {
     "data": {
      "text/plain": [
       "<StemContainer object of 3 artists>"
      ]
     },
     "execution_count": 63,
     "metadata": {},
     "output_type": "execute_result"
    },
    {
     "data": {
      "image/png": "[encoded data removed]",
      "text/plain": [
       "<Figure size 432x288 with 1 Axes>"
      ]
     },
     "metadata": {
      "needs_background": "light"
     },
     "output_type": "display_data"
    }
   ],
   "source": [
    "plt.stem(x)"
   ]
  },
  {
   "cell_type": "code",
   "execution_count": 61,
   "metadata": {},
   "outputs": [
    {
     "data": {
      "text/plain": [
       "[<matplotlib.lines.Line2D at 0x7f2d5d357590>]"
      ]
     },
     "execution_count": 61,
     "metadata": {},
     "output_type": "execute_result"
    },
    {
     "data": {
      "image/png": "[encoded data removed]",
      "text/plain": [
       "<Figure size 432x288 with 1 Axes>"
      ]
     },
     "metadata": {
      "needs_background": "light"
     },
     "output_type": "display_data"
    }
   ],
   "source": [
    "x = np.arange(100)\n",
    "plt.plot(np.mod(x, 7)) # \"Modulus operator\": Returns remainder after division"
   ]
  },
  {
   "cell_type": "markdown",
   "metadata": {},
   "source": [
    "Class exercise: Make the array [0, 1, 0, 3, 0, 5, 0, 7, 0] using arange and slicing"
   ]
  },
  {
   "cell_type": "code",
   "execution_count": 64,
   "metadata": {},
   "outputs": [
    {
     "name": "stdout",
     "output_type": "stream",
     "text": [
      "[0 1 2 3 4 5 6 7]\n",
      "[ 0  2  4  6  8 10 12 14]\n",
      "[ 1  3  5  7  9 11 13 15]\n",
      "[1 3 5 7 1 3 5 7]\n"
     ]
    }
   ],
   "source": [
    "x = np.arange(8)\n",
    "print(x)\n",
    "x = x*2\n",
    "print(x)\n",
    "x = x + 1\n",
    "print(x)\n",
    "x = np.mod(x, 8)\n",
    "print(x)"
   ]
  },
  {
   "cell_type": "code",
   "execution_count": null,
   "metadata": {},
   "outputs": [],
   "source": [
    "## Andrew/Kat\n",
    "x = np.arange(17)\n",
    "print(x)\n",
    "y = np.mod(x, 8)\n",
    "print(y)\n",
    "y = y[1::2]\n",
    "print(y)\n",
    "\n",
    "# Class exercise: Create an array with the elements [1, 3, 5, 7, 1, 3, 5, 7]\n",
    "# using np.arange and np.mod\n"
   ]
  },
  {
   "cell_type": "code",
   "execution_count": 66,
   "metadata": {},
   "outputs": [
    {
     "name": "stdout",
     "output_type": "stream",
     "text": [
      "[1, 3, 5, 7, 1, 3, 5, 7]\n"
     ]
    }
   ],
   "source": [
    "## You can really cheat with regular lists\n",
    "x = [1, 3, 5, 7]\n",
    "x = x + x\n",
    "print(x)"
   ]
  },
  {
   "cell_type": "markdown",
   "metadata": {},
   "source": [
    "## Audio Waveforms"
   ]
  },
  {
   "cell_type": "code",
   "execution_count": null,
   "metadata": {},
   "outputs": [],
   "source": [
    "# Class exercise: Load in audio and pull out \"birth\" to play\n",
    "fs, x = wavfile.read(\"happybirthday.wav\")\n",
    "plt.plot(x)\n",
    "ipd.Audio(x, rate=fs)"
   ]
  },
  {
   "cell_type": "code",
   "execution_count": null,
   "metadata": {},
   "outputs": [],
   "source": [
    "## Play twice as fast\n",
    "ipd.Audio(x, rate=fs*2)"
   ]
  },
  {
   "cell_type": "code",
   "execution_count": null,
   "metadata": {},
   "outputs": [],
   "source": [
    "# \"Decimate\" in time by a factor of 12 (take 1 out of every 12 samples) to demo aliasing\n",
    "y = x[0::12]\n",
    "plt.plot(y)\n",
    "ipd.Audio(y, rate=fs/12)"
   ]
  },
  {
   "cell_type": "code",
   "execution_count": null,
   "metadata": {},
   "outputs": [],
   "source": [
    "y = x[::-1] #Reverse audio\n",
    "ipd.Audio(y, rate=fs)"
   ]
  },
  {
   "cell_type": "markdown",
   "metadata": {},
   "source": [
    "## Sinusoids"
   ]
  },
  {
   "cell_type": "code",
   "execution_count": null,
   "metadata": {},
   "outputs": [],
   "source": [
    "# linspace review"
   ]
  },
  {
   "cell_type": "code",
   "execution_count": null,
   "metadata": {},
   "outputs": [],
   "source": [
    "# TODO: Change to use formula for halfsteps\n",
    "freq = 440  # Our played note will be a 440 Hz A\n",
    "fs = 44100  # 44100 samples per second\n",
    "seconds = 1  # Note duration of 1 seconds\n",
    "\n",
    "# Generate array with seconds*sample_rate steps, ranging between 0 and seconds\n",
    "t = np.linspace(0, seconds, seconds * fs, False)\n",
    "\n",
    "# Generate a 440 Hz sine wave\n",
    "x = np.sin(2*np.pi*freq*t)\n",
    "plt.plot(t, x)\n",
    "plt.xlim([0, 0.05]) # Show the first 50 milliseconds\n",
    "plt.xlabel(\"Seconds\")\n",
    "ipd.Audio(x, rate=fs)\n"
   ]
  },
  {
   "cell_type": "markdown",
   "metadata": {},
   "source": [
    "The formula for the frequency of a note $h$ halfsteps away from a 440hz is\n",
    "\n",
    "$ f = 440 * 2^{h/12}$"
   ]
  },
  {
   "cell_type": "code",
   "execution_count": null,
   "metadata": {},
   "outputs": [],
   "source": [
    "## Class exercise: Play the major triad notes A, C#, E in a sequence\n",
    "\n",
    "# Hint: Here is an A + silence + A\n",
    "# C# is 4 halfsteps above A\n",
    "# E is 7 halfsteps above A\n",
    "y = np.zeros(t.size*3)\n",
    "y[0:t.size] = np.sin(2*np.pi*440*t)\n",
    "y[2*t.size::] = np.sin(2*np.pi*440*t)\n",
    "\n",
    "ipd.Audio(y, rate=fs)"
   ]
  },
  {
   "cell_type": "code",
   "execution_count": null,
   "metadata": {},
   "outputs": [],
   "source": [
    "# Show triangle wave\n"
   ]
  },
  {
   "cell_type": "markdown",
   "metadata": {},
   "source": [
    "## Methods"
   ]
  },
  {
   "cell_type": "code",
   "execution_count": null,
   "metadata": {},
   "outputs": [],
   "source": [
    "# Introduce methods"
   ]
  },
  {
   "cell_type": "code",
   "execution_count": null,
   "metadata": {},
   "outputs": [],
   "source": [
    "# Make a method that returns sinusoids at an appropriate frequency"
   ]
  },
  {
   "cell_type": "markdown",
   "metadata": {},
   "source": [
    "## Echoes / Convolution"
   ]
  },
  {
   "cell_type": "code",
   "execution_count": null,
   "metadata": {},
   "outputs": [],
   "source": [
    "\n",
    "fs, x = wavfile.read(\"happybirthday.wav\")\n",
    "ipd.Audio(x, rate=fs)"
   ]
  },
  {
   "cell_type": "code",
   "execution_count": null,
   "metadata": {},
   "outputs": [],
   "source": [
    "y = np.array(x) # Copy over x\n",
    "## TODO: Add an echo of x"
   ]
  },
  {
   "cell_type": "code",
   "execution_count": null,
   "metadata": {},
   "outputs": [],
   "source": [
    "# TODO: Add many echos of x using convolution\n"
   ]
  },
  {
   "cell_type": "markdown",
   "metadata": {},
   "source": [
    "## Comb Filters"
   ]
  },
  {
   "cell_type": "code",
   "execution_count": null,
   "metadata": {},
   "outputs": [],
   "source": [
    "# Introduce noise, convolve noise pulse train"
   ]
  },
  {
   "cell_type": "code",
   "execution_count": null,
   "metadata": {},
   "outputs": [],
   "source": []
  },
  {
   "cell_type": "markdown",
   "metadata": {},
   "source": [
    "## The Discrete Fourier Transform"
   ]
  },
  {
   "cell_type": "code",
   "execution_count": null,
   "metadata": {},
   "outputs": [],
   "source": [
    "def plot_fourier_mag(x, fs):\n",
    "    \"\"\"\n",
    "    Given audio samples and the sample rate, plot\n",
    "    the magnitude of the Fourier transform of x with \n",
    "    the appropriate frequency labels\n",
    "    Parameters\n",
    "    ----------\n",
    "    x: ndarray(N)\n",
    "        The audio samples\n",
    "    fs: int\n",
    "        The sample rate in hz\n",
    "    \"\"\"\n",
    "    xft = np.abs(np.fft.fft(x))\n",
    "    freqs = np.fft.fftfreq(len(x), 1/fs)\n",
    "    plt.plot(freqs, np.abs(xft))\n",
    "    plt.xlabel(\"Frequency\")\n",
    "    plt.ylabel(\"Magnitude\")"
   ]
  },
  {
   "cell_type": "code",
   "execution_count": null,
   "metadata": {},
   "outputs": [],
   "source": [
    "## TODO: Add another frequency, \n",
    "freq = 440  \n",
    "fs = 44100  \n",
    "seconds = 1\n",
    "\n",
    "# Generate array with seconds*sample_rate steps, ranging between 0 and seconds\n",
    "t = np.linspace(0, seconds, seconds * fs, False)\n",
    "    \n",
    "\n",
    "# Take the fourier transform of x\n",
    "plot_fourier(x, fs)\n",
    "\n",
    "ipd.Audio(x, rate=fs)\n",
    "plt.xlim([0, 2000])"
   ]
  },
  {
   "cell_type": "code",
   "execution_count": null,
   "metadata": {},
   "outputs": [],
   "source": [
    "## TODO: Look at triangle wave"
   ]
  },
  {
   "cell_type": "code",
   "execution_count": null,
   "metadata": {},
   "outputs": [],
   "source": [
    "## TODO: Look at sinusoidal approximation of triangle wave\n",
    "y = -np.sin(2*np.pi*440*t) \n",
    "## TODO: Class exercise: Add the next 3 harmonics\n",
    "\n",
    "plt.subplot(211)\n",
    "plt.plot(y[0:1000])\n",
    "plt.title(\"Sawtooth approximation of sinusoid\")\n",
    "plt.subplot(212)\n",
    "plot_fourier(y, fs)\n",
    "plt.xlim([0, 8000])\n",
    "plt.title(\"Discrete Fourier Transform Magnitude\")\n",
    "plt.tight_layout()\n",
    "ipd.Audio(y, rate=fs)\n"
   ]
  },
  {
   "cell_type": "code",
   "execution_count": null,
   "metadata": {},
   "outputs": [],
   "source": [
    "# look at speech, look at noise\n"
   ]
  }
 ],
 "metadata": {
  "kernelspec": {
   "display_name": "Python 3",
   "language": "python",
   "name": "python3"
  },
  "language_info": {
   "codemirror_mode": {
    "name": "ipython",
    "version": 3
   },
   "file_extension": ".py",
   "mimetype": "text/x-python",
   "name": "python",
   "nbconvert_exporter": "python",
   "pygments_lexer": "ipython3",
   "version": "3.7.6"
  }
 },
 "nbformat": 4,
 "nbformat_minor": 2
}
