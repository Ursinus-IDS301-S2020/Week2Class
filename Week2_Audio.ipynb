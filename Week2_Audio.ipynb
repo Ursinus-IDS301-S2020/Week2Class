{
 "cells": [
  {
   "cell_type": "markdown",
   "metadata": {},
   "source": [
    "## Setting up the environment"
   ]
  },
  {
   "cell_type": "code",
   "execution_count": null,
   "metadata": {},
   "outputs": [],
   "source": [
    "import numpy as np # This is the main numerical library we will use\n",
    "import matplotlib.pyplot as plt # This is the main plotting library we will use\n",
    "import scipy.io.wavfile as wavfile # We will use this library to load in audio\n",
    "import IPython.display as ipd # This is a library that allows us to play audio samples in Jupyter"
   ]
  },
  {
   "cell_type": "markdown",
   "metadata": {},
   "source": [
    "## Audio Waveforms"
   ]
  },
  {
   "cell_type": "code",
   "execution_count": null,
   "metadata": {},
   "outputs": [],
   "source": [
    "# Class exercise: Load in audio and pull out \"birth\" to play\n",
    "fs, x = wavfile.read(\"happybirthday.wav\")\n",
    "plt.plot(x)\n",
    "ipd.Audio(x, rate=fs)"
   ]
  },
  {
   "cell_type": "code",
   "execution_count": null,
   "metadata": {},
   "outputs": [],
   "source": [
    "## Play twice as fast\n",
    "ipd.Audio(x, rate=fs*2)"
   ]
  },
  {
   "cell_type": "code",
   "execution_count": null,
   "metadata": {},
   "outputs": [],
   "source": [
    "# \"Decimate\" in time by a factor of 12 (take 1 out of every 12 samples) to demo aliasing\n",
    "y = x[0::12]\n",
    "plt.plot(y)\n",
    "ipd.Audio(y, rate=fs/12)"
   ]
  },
  {
   "cell_type": "code",
   "execution_count": null,
   "metadata": {},
   "outputs": [],
   "source": [
    "y = x[::-1] #Reverse audio\n",
    "ipd.Audio(y, rate=fs)"
   ]
  },
  {
   "cell_type": "markdown",
   "metadata": {},
   "source": [
    "## Sinusoids"
   ]
  },
  {
   "cell_type": "code",
   "execution_count": null,
   "metadata": {},
   "outputs": [],
   "source": [
    "# linspace review"
   ]
  },
  {
   "cell_type": "code",
   "execution_count": null,
   "metadata": {},
   "outputs": [],
   "source": [
    "# TODO: Change to use formula for halfsteps\n",
    "freq = 440  # Our played note will be a 440 Hz A\n",
    "fs = 44100  # 44100 samples per second\n",
    "seconds = 1  # Note duration of 1 seconds\n",
    "\n",
    "# Generate array with seconds*sample_rate steps, ranging between 0 and seconds\n",
    "t = np.linspace(0, seconds, seconds * fs, False)\n",
    "\n",
    "# Generate a 440 Hz sine wave\n",
    "x = np.sin(2*np.pi*freq*t)\n",
    "plt.plot(t, x)\n",
    "plt.xlim([0, 0.05]) # Show the first 50 milliseconds\n",
    "plt.xlabel(\"Seconds\")\n",
    "ipd.Audio(x, rate=fs)\n"
   ]
  },
  {
   "cell_type": "markdown",
   "metadata": {},
   "source": [
    "The formula for the frequency of a note $h$ halfsteps away from a 440hz is\n",
    "\n",
    "$ f = 440 * 2^{h/12}$"
   ]
  },
  {
   "cell_type": "code",
   "execution_count": null,
   "metadata": {},
   "outputs": [],
   "source": [
    "## Class exercise: Play the major triad notes A, C#, E in a sequence\n",
    "\n",
    "# Hint: Here is an A + silence + A\n",
    "# C# is 4 halfsteps above A\n",
    "# E is 7 halfsteps above A\n",
    "y = np.zeros(t.size*3)\n",
    "y[0:t.size] = np.sin(2*np.pi*440*t)\n",
    "y[2*t.size::] = np.sin(2*np.pi*440*t)\n",
    "\n",
    "ipd.Audio(y, rate=fs)"
   ]
  },
  {
   "cell_type": "code",
   "execution_count": null,
   "metadata": {},
   "outputs": [],
   "source": [
    "# Show triangle wave\n"
   ]
  },
  {
   "cell_type": "markdown",
   "metadata": {},
   "source": [
    "## Methods"
   ]
  },
  {
   "cell_type": "code",
   "execution_count": null,
   "metadata": {},
   "outputs": [],
   "source": [
    "# Introduce methods"
   ]
  },
  {
   "cell_type": "code",
   "execution_count": null,
   "metadata": {},
   "outputs": [],
   "source": [
    "# Make a method that returns sinusoids at an appropriate frequency"
   ]
  },
  {
   "cell_type": "markdown",
   "metadata": {},
   "source": [
    "## Echoes / Convolution"
   ]
  },
  {
   "cell_type": "code",
   "execution_count": null,
   "metadata": {},
   "outputs": [],
   "source": [
    "\n",
    "fs, x = wavfile.read(\"happybirthday.wav\")\n",
    "ipd.Audio(x, rate=fs)"
   ]
  },
  {
   "cell_type": "code",
   "execution_count": null,
   "metadata": {},
   "outputs": [],
   "source": [
    "y = np.array(x) # Copy over x\n",
    "## TODO: Add an echo of x"
   ]
  },
  {
   "cell_type": "code",
   "execution_count": null,
   "metadata": {},
   "outputs": [],
   "source": [
    "# TODO: Add many echos of x using convolution\n"
   ]
  },
  {
   "cell_type": "markdown",
   "metadata": {},
   "source": [
    "## Comb Filters"
   ]
  },
  {
   "cell_type": "code",
   "execution_count": null,
   "metadata": {},
   "outputs": [],
   "source": [
    "# Introduce noise, convolve noise pulse train"
   ]
  },
  {
   "cell_type": "code",
   "execution_count": null,
   "metadata": {},
   "outputs": [],
   "source": []
  },
  {
   "cell_type": "markdown",
   "metadata": {},
   "source": [
    "## The Discrete Fourier Transform"
   ]
  },
  {
   "cell_type": "code",
   "execution_count": null,
   "metadata": {},
   "outputs": [],
   "source": [
    "def plot_fourier_mag(x, fs):\n",
    "    \"\"\"\n",
    "    Given audio samples and the sample rate, plot\n",
    "    the magnitude of the Fourier transform of x with \n",
    "    the appropriate frequency labels\n",
    "    Parameters\n",
    "    ----------\n",
    "    x: ndarray(N)\n",
    "        The audio samples\n",
    "    fs: int\n",
    "        The sample rate in hz\n",
    "    \"\"\"\n",
    "    xft = np.abs(np.fft.fft(x))\n",
    "    freqs = np.fft.fftfreq(len(x), 1/fs)\n",
    "    plt.plot(freqs, np.abs(xft))\n",
    "    plt.xlabel(\"Frequency\")\n",
    "    plt.ylabel(\"Magnitude\")"
   ]
  },
  {
   "cell_type": "code",
   "execution_count": null,
   "metadata": {},
   "outputs": [],
   "source": [
    "## TODO: Add another frequency, \n",
    "freq = 440  \n",
    "fs = 44100  \n",
    "seconds = 1\n",
    "\n",
    "# Generate array with seconds*sample_rate steps, ranging between 0 and seconds\n",
    "t = np.linspace(0, seconds, seconds * fs, False)\n",
    "    \n",
    "\n",
    "# Take the fourier transform of x\n",
    "plot_fourier(x, fs)\n",
    "\n",
    "ipd.Audio(x, rate=fs)\n",
    "plt.xlim([0, 2000])"
   ]
  },
  {
   "cell_type": "code",
   "execution_count": null,
   "metadata": {},
   "outputs": [],
   "source": [
    "## TODO: Look at triangle wave"
   ]
  },
  {
   "cell_type": "code",
   "execution_count": null,
   "metadata": {},
   "outputs": [],
   "source": [
    "## TODO: Look at sinusoidal approximation of triangle wave\n",
    "y = -np.sin(2*np.pi*440*t) \n",
    "## TODO: Class exercise: Add the next 3 harmonics\n",
    "\n",
    "plt.subplot(211)\n",
    "plt.plot(y[0:1000])\n",
    "plt.title(\"Sawtooth approximation of sinusoid\")\n",
    "plt.subplot(212)\n",
    "plot_fourier(y, fs)\n",
    "plt.xlim([0, 8000])\n",
    "plt.title(\"Discrete Fourier Transform Magnitude\")\n",
    "plt.tight_layout()\n",
    "ipd.Audio(y, rate=fs)\n"
   ]
  },
  {
   "cell_type": "code",
   "execution_count": null,
   "metadata": {},
   "outputs": [],
   "source": [
    "# look at speech, look at noise\n"
   ]
  }
 ],
 "metadata": {
  "kernelspec": {
   "display_name": "Python 3",
   "language": "python",
   "name": "python3"
  },
  "language_info": {
   "codemirror_mode": {
    "name": "ipython",
    "version": 3
   },
   "file_extension": ".py",
   "mimetype": "text/x-python",
   "name": "python",
   "nbconvert_exporter": "python",
   "pygments_lexer": "ipython3",
   "version": "3.7.6"
  }
 },
 "nbformat": 4,
 "nbformat_minor": 2
}
